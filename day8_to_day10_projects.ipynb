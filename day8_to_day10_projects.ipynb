{
  "nbformat": 4,
  "nbformat_minor": 0,
  "metadata": {
    "colab": {
      "provenance": []
    },
    "kernelspec": {
      "name": "python3",
      "display_name": "Python 3"
    },
    "language_info": {
      "name": "python"
    }
  },
  "cells": [
    {
      "cell_type": "markdown",
      "source": [],
      "metadata": {
        "id": "uE_f_OcPGkZy"
      }
    },
    {
      "cell_type": "markdown",
      "source": [
        "**🎯 Python Projects (Day 8 - Day 10) | 100 Days of Code — Angela Yu Bootcamp**"
      ],
      "metadata": {
        "id": "vBAY2pCLGl8d"
      }
    },
    {
      "cell_type": "markdown",
      "source": [
        "*📅 Day 8: Functions with Inputs*"
      ],
      "metadata": {
        "id": "ylujq62dHFGO"
      }
    },
    {
      "cell_type": "code",
      "source": [
        "\n",
        "# 💌 Greeting Generator\n",
        "def greet_user(name):\n",
        "    \"\"\"Generates a greeting with the user's name.\"\"\"\n",
        "    greeting = \"Hello, \" + name.title() + \"!\"\n",
        "    return greeting\n",
        "\n",
        "# Test\n",
        "print(greet_user(\"anne\"))"
      ],
      "metadata": {
        "colab": {
          "base_uri": "https://localhost:8080/"
        },
        "id": "A7jC7CoaG0SD",
        "outputId": "edabd1b4-7cdb-4ccd-bb13-286e085bb2d5"
      },
      "execution_count": 1,
      "outputs": [
        {
          "output_type": "stream",
          "name": "stdout",
          "text": [
            "Hello, Anne!\n"
          ]
        }
      ]
    },
    {
      "cell_type": "code",
      "source": [
        "def email_generator(first_name, last_name):\n",
        "    \"\"\"Generates a simple email based on the first and last name.\"\"\"\n",
        "    email = first_name.lower() + last_name.lower() + \"@gmail.com\"\n",
        "    return email\n",
        "\n",
        "# Test\n",
        "print(email_generator(\"Anne\", \"Adudu\"))"
      ],
      "metadata": {
        "colab": {
          "base_uri": "https://localhost:8080/"
        },
        "id": "KdcHyygiHXys",
        "outputId": "b868380c-0f33-4c96-b7f5-8d84bc4e8918"
      },
      "execution_count": 2,
      "outputs": [
        {
          "output_type": "stream",
          "name": "stdout",
          "text": [
            "anneadudu@gmail.com\n"
          ]
        }
      ]
    },
    {
      "cell_type": "code",
      "source": [
        "def full_name(first, middle, last):\n",
        "    \"\"\"Returns the formatted full name.\"\"\"\n",
        "    name = \"My name is \" + first.title() + \" \" + middle.title() + \" \" + last.title()\n",
        "    return name\n",
        "\n",
        "# Test\n",
        "print(full_name(\"anne\", \"eboselomen\", \"adudu\"))"
      ],
      "metadata": {
        "colab": {
          "base_uri": "https://localhost:8080/"
        },
        "id": "Uc62wrTLHZVm",
        "outputId": "7ad63653-49dc-442f-f042-ea4f6e36f693"
      },
      "execution_count": 3,
      "outputs": [
        {
          "output_type": "stream",
          "name": "stdout",
          "text": [
            "My name is Anne Eboselomen Adudu\n"
          ]
        }
      ]
    },
    {
      "cell_type": "code",
      "source": [
        "# Caesar Cipher Project\n",
        "alphabet = ['a', 'b', 'c', 'd', 'e', 'f', 'g', 'h',\n",
        "            'i', 'j', 'k', 'l', 'm', 'n', 'o', 'p',\n",
        "            'q', 'r', 's', 't', 'u', 'v', 'w', 'x',\n",
        "            'y', 'z']\n",
        "\n",
        "def caesar(start_text, shift_amount, cipher_direction):\n",
        "    end_text = \"\"\n",
        "    shift_amount = shift_amount % len(alphabet)  # ✅ Corrected to use len(alphabet)\n",
        "    if cipher_direction == \"decode\":\n",
        "        shift_amount *= -1\n",
        "\n",
        "    for char in start_text:\n",
        "        if char.isalpha():\n",
        "            position = alphabet.index(char.lower())\n",
        "            new_position = (position + shift_amount) % len(alphabet)\n",
        "            end_text += alphabet[new_position]\n",
        "        else:\n",
        "            end_text += char  # Keep spaces, numbers, punctuation unchanged\n",
        "    print(f\"The {cipher_direction}d text is: {end_text}\")\n",
        "\n",
        "# Main Program\n",
        "should_continue = True\n",
        "while should_continue:\n",
        "    direction = input(\"Type 'encode' to encrypt, 'decode' to decrypt:\\n\").lower()\n",
        "    text = input(\"Type your message:\\n\").lower()\n",
        "    shift = int(input(\"Type the shift number:\\n\"))\n",
        "\n",
        "    caesar(start_text=text, shift_amount=shift, cipher_direction=direction)\n",
        "\n",
        "    restart = input(\"Type 'yes' if you want to go again. Otherwise type 'no'.\\n\").lower()\n",
        "    if restart != \"yes\":\n",
        "        should_continue = False\n",
        "        print(\"Goodbye!\")\n"
      ],
      "metadata": {
        "id": "Z3t6CiEwSSQ4"
      },
      "execution_count": null,
      "outputs": []
    },
    {
      "cell_type": "markdown",
      "source": [
        "*📅 Day 9: Dictionaries, Nesting & Secret Auction Project*"
      ],
      "metadata": {
        "id": "VO-GhuEMHfdf"
      }
    },
    {
      "cell_type": "code",
      "source": [
        "\n",
        "print(\"Welcome to the Secret Auction Program!\")\n",
        "bids = {}\n",
        "\n",
        "def collect_bid():\n",
        "    \"\"\"Collects name and bid amount from the user.\"\"\"\n",
        "    name = input(\"What is your name? \")\n",
        "    bid_amount = int(input(\"What's your bid? ₦\"))\n",
        "    bids[name] = bid_amount\n",
        "\n",
        "# Loop for multiple bidders\n",
        "while True:\n",
        "    collect_bid()\n",
        "    more = input(\"Are there any other bidders? Type 'yes' or 'no': \").lower()\n",
        "    if more == \"no\":\n",
        "        break\n",
        "\n",
        "# Find highest bidder\n",
        "highest = 0\n",
        "winner = \"\"\n",
        "for bidder in bids:\n",
        "    if bids[bidder] > highest:\n",
        "        highest = bids[bidder]\n",
        "        winner = bidder\n",
        "\n",
        "print(f\"\\n🏆 The winner is {winner} with a bid of ₦{highest}!\")\n",
        "print(f\"All bids: {bids}\")"
      ],
      "metadata": {
        "colab": {
          "base_uri": "https://localhost:8080/"
        },
        "id": "Dn-qAX5dHesf",
        "outputId": "d4fcfdee-658b-49c4-d1d8-d513c35dc886"
      },
      "execution_count": 4,
      "outputs": [
        {
          "output_type": "stream",
          "name": "stdout",
          "text": [
            "Welcome to the Secret Auction Program!\n",
            "What is your name? Anne\n",
            "What's your bid? ₦1000\n",
            "Are there any other bidders? Type 'yes' or 'no': yes\n",
            "What is your name? Westly\n",
            "What's your bid? ₦1000\n",
            "Are there any other bidders? Type 'yes' or 'no': no\n",
            "\n",
            "🏆 The winner is Anne with a bid of ₦1000!\n",
            "All bids: {'Anne': 1000, 'Westly': 1000}\n"
          ]
        }
      ]
    },
    {
      "cell_type": "code",
      "source": [
        "#  📝 Student Grading Program\n",
        "student_scores = {\n",
        "    'Harry': 88,\n",
        "    'Ron': 78,\n",
        "    'Hermione': 95,\n",
        "    'Draco': 75,\n",
        "    'Neville': 60\n",
        "}\n",
        "\n",
        "student_grades = {}\n",
        "\n",
        "for student, score in student_scores.items():\n",
        "    if score >= 91:\n",
        "        student_grades[student] = \"Outstanding\"\n",
        "    elif score >= 81:\n",
        "        student_grades[student] = \"Exceeds Expectations\"\n",
        "    elif score >= 71:\n",
        "        student_grades[student] = \"Acceptable\"\n",
        "    else:\n",
        "        student_grades[student] = \"Fail\"\n",
        "\n",
        "print(student_grades)\n"
      ],
      "metadata": {
        "colab": {
          "base_uri": "https://localhost:8080/"
        },
        "id": "VU7IyuW7H3-E",
        "outputId": "1f29bf9e-b25e-4ae0-bac7-d3b462e33052"
      },
      "execution_count": 6,
      "outputs": [
        {
          "output_type": "stream",
          "name": "stdout",
          "text": [
            "{'Harry': 'Exceeds Expectations', 'Ron': 'Acceptable', 'Hermione': 'Outstanding', 'Draco': 'Acceptable', 'Neville': 'Fail'}\n"
          ]
        }
      ]
    },
    {
      "cell_type": "markdown",
      "source": [
        "*📅 Day 10: Functions with Outputs, Docstrings & Leap Year*"
      ],
      "metadata": {
        "id": "X_Ll7IisIJMg"
      }
    },
    {
      "cell_type": "code",
      "source": [
        "# 🔠 Name Formatter Function\n",
        "def format_name(f_name, l_name):\n",
        "    \"\"\"Formats a first and last name into title case.\"\"\"\n",
        "    if f_name == \"\" or l_name == \"\":\n",
        "        return \"Invalid input.\"\n",
        "    return f_name.title() + \" \" + l_name.title()\n",
        "\n",
        "# Test\n",
        "print(format_name(\"anne\", \"adudu\"))\n"
      ],
      "metadata": {
        "colab": {
          "base_uri": "https://localhost:8080/"
        },
        "id": "Jxu5QugRIIjq",
        "outputId": "1427268e-e35f-436f-d891-25f4b1cd3231"
      },
      "execution_count": 7,
      "outputs": [
        {
          "output_type": "stream",
          "name": "stdout",
          "text": [
            "Anne Adudu\n"
          ]
        }
      ]
    },
    {
      "cell_type": "code",
      "source": [
        "# 📆 Leap Year Checker\n",
        "def is_leap(year):\n",
        "    \"\"\"Checks whether a given year is a leap year.\"\"\"\n",
        "    if (year % 4 == 0) and (year % 100 != 0) or (year % 400 == 0):\n",
        "        return True\n",
        "    else:\n",
        "        return False\n",
        "\n",
        "# Test\n",
        "print(is_leap(2400))  # ➡️ True\n",
        "print(is_leap(2100))  # ➡️ False\n"
      ],
      "metadata": {
        "colab": {
          "base_uri": "https://localhost:8080/"
        },
        "id": "OjSK2V_gICQS",
        "outputId": "8eae0635-988f-4714-e92d-8d0f5f768848"
      },
      "execution_count": 8,
      "outputs": [
        {
          "output_type": "stream",
          "name": "stdout",
          "text": [
            "True\n",
            "False\n"
          ]
        }
      ]
    },
    {
      "cell_type": "markdown",
      "source": [
        " *Day 10: Nested Functions*"
      ],
      "metadata": {
        "id": "8A98O5-FIXoG"
      }
    },
    {
      "cell_type": "code",
      "source": [
        "def outer_function():\n",
        "    print(\"Outer function is running...\")\n",
        "\n",
        "    def inner_function():\n",
        "        print(\"Inner function is running...\")\n",
        "\n",
        "    inner_function()\n",
        "\n",
        "# Test\n",
        "outer_function()"
      ],
      "metadata": {
        "colab": {
          "base_uri": "https://localhost:8080/"
        },
        "id": "LnuSEuJGIUvO",
        "outputId": "073a321a-95df-41a2-b1a0-5b07f3602354"
      },
      "execution_count": 9,
      "outputs": [
        {
          "output_type": "stream",
          "name": "stdout",
          "text": [
            "Outer function is running...\n",
            "Inner function is running...\n"
          ]
        }
      ]
    },
    {
      "cell_type": "markdown",
      "source": [
        "*Day 10: Multiple Function Calls*"
      ],
      "metadata": {
        "id": "TV6n0IuFJBLf"
      }
    },
    {
      "cell_type": "code",
      "source": [
        "# 🚀 Multiple Functions Example\n",
        "def greet():\n",
        "    print(\"Hello!\")\n",
        "\n",
        "def welcome():\n",
        "    print(\"Welcome to Python.\")\n",
        "\n",
        "def start_program():\n",
        "    greet()\n",
        "    welcome()\n",
        "    print(\"Let's start coding!\")\n",
        "\n",
        "# Run\n",
        "start_program()\n",
        "\n"
      ],
      "metadata": {
        "colab": {
          "base_uri": "https://localhost:8080/"
        },
        "id": "VTkHLyWpI8qk",
        "outputId": "c5227c79-4bd4-4f59-af01-fd6f7ba91e79"
      },
      "execution_count": 10,
      "outputs": [
        {
          "output_type": "stream",
          "name": "stdout",
          "text": [
            "Hello!\n",
            "Welcome to Python.\n",
            "Let's start coding!\n"
          ]
        }
      ]
    },
    {
      "cell_type": "code",
      "source": [],
      "metadata": {
        "id": "C_EL3daGJFX5"
      },
      "execution_count": null,
      "outputs": []
    }
  ]
}